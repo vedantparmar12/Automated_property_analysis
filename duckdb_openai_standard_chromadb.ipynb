{
  "cells": [
    {
      "cell_type": "markdown",
      "metadata": {
        "id": "view-in-github",
        "colab_type": "text"
      },
      "source": [
        "<a href=\"https://colab.research.google.com/github/vedantparmar12/Automated_property_analysis/blob/main/duckdb_openai_standard_chromadb.ipynb\" target=\"_parent\"><img src=\"https://colab.research.google.com/assets/colab-badge.svg\" alt=\"Open In Colab\"/></a>"
      ]
    },
    {
      "id": "5c89b3de-16e5-5293-b281-f27aa6273ddd",
      "cell_type": "markdown",
      "metadata": {
        "id": "5c89b3de-16e5-5293-b281-f27aa6273ddd"
      },
      "source": [
        "# Generating SQL for Postgres using OpenAI, ChromaDB\n",
        "This notebook runs through the process of using the `vanna` Python package to generate SQL using AI (RAG + LLMs) including connecting to a database and training. If you're not ready to train on your own database, you can still try it using a sample [SQLite database](app.md)."
      ]
    },
    {
      "id": "324f5b82-4e69-5c12-83b5-c2ba2050b39f",
      "cell_type": "markdown",
      "metadata": {
        "id": "324f5b82-4e69-5c12-83b5-c2ba2050b39f"
      },
      "source": [
        "\n",
        "<h3 class=\"mb-5 text-lg font-medium text-gray-900 dark:text-white\">Which LLM do you want to use?</h3>\n",
        "<ul class=\"grid w-full gap-6 md:grid-cols-2\">\n",
        "    \n",
        "  <li>\n",
        "    <a href=\"../postgres-openai-vanna-vannadb/\" class=\"inline-flex w-full cursor-pointer items-center justify-between rounded-lg border border-gray-200 bg-white p-5 text-gray-500 hover:bg-gray-100 hover:text-gray-600 peer-checked:border-blue-600 peer-checked:text-blue-600 dark:border-gray-700 dark:bg-gray-800 dark:text-gray-400 dark:hover:bg-gray-700 dark:hover:text-gray-300 dark:peer-checked:text-blue-500\">\n",
        "      <div class=\"block\">\n",
        "        <div class=\"w-full text-lg font-semibold\">OpenAI via Vanna.AI (Recommended)</div>\n",
        "        <small class=\"w-full\">Use Vanna.AI for free to generate your queries</small>\n",
        "      </div>\n",
        "    </a>\n",
        "  </li>\n",
        "    \n",
        "  <li>\n",
        "    <span class=\"inline-flex w-full cursor-pointer items-center justify-between rounded-lg border bg-white p-5 border-blue-600 text-blue-600 dark:bg-gray-800 dark:text-blue-500\">\n",
        "      <div class=\"block\">\n",
        "        <div class=\"w-full text-lg font-semibold\"><span class=\"hidden\">[Selected]</span> OpenAI</div>\n",
        "        <small class=\"w-full\">Use OpenAI with your own API key</small>\n",
        "      </div>\n",
        "    </span>\n",
        "  </li>\n",
        "  \n",
        "  <li>\n",
        "    <a href=\"../postgres-openai-azure-chromadb/\" class=\"inline-flex w-full cursor-pointer items-center justify-between rounded-lg border border-gray-200 bg-white p-5 text-gray-500 hover:bg-gray-100 hover:text-gray-600 peer-checked:border-blue-600 peer-checked:text-blue-600 dark:border-gray-700 dark:bg-gray-800 dark:text-gray-400 dark:hover:bg-gray-700 dark:hover:text-gray-300 dark:peer-checked:text-blue-500\">\n",
        "      <div class=\"block\">\n",
        "        <div class=\"w-full text-lg font-semibold\">Azure OpenAI</div>\n",
        "        <small class=\"w-full\">If you have OpenAI models deployed on Azure</small>\n",
        "      </div>\n",
        "    </a>\n",
        "  </li>\n",
        "    \n",
        "  <li>\n",
        "    <a href=\"../postgres-anthropic-chromadb/\" class=\"inline-flex w-full cursor-pointer items-center justify-between rounded-lg border border-gray-200 bg-white p-5 text-gray-500 hover:bg-gray-100 hover:text-gray-600 peer-checked:border-blue-600 peer-checked:text-blue-600 dark:border-gray-700 dark:bg-gray-800 dark:text-gray-400 dark:hover:bg-gray-700 dark:hover:text-gray-300 dark:peer-checked:text-blue-500\">\n",
        "      <div class=\"block\">\n",
        "        <div class=\"w-full text-lg font-semibold\">Anthropic</div>\n",
        "        <small class=\"w-full\">Use Anthropics Claude with your Anthropic API Key</small>\n",
        "      </div>\n",
        "    </a>\n",
        "  </li>\n",
        "    \n",
        "  <li>\n",
        "    <a href=\"../postgres-ollama-chromadb/\" class=\"inline-flex w-full cursor-pointer items-center justify-between rounded-lg border border-gray-200 bg-white p-5 text-gray-500 hover:bg-gray-100 hover:text-gray-600 peer-checked:border-blue-600 peer-checked:text-blue-600 dark:border-gray-700 dark:bg-gray-800 dark:text-gray-400 dark:hover:bg-gray-700 dark:hover:text-gray-300 dark:peer-checked:text-blue-500\">\n",
        "      <div class=\"block\">\n",
        "        <div class=\"w-full text-lg font-semibold\">Ollama</div>\n",
        "        <small class=\"w-full\">Use Ollama locally for free. Requires additional setup.</small>\n",
        "      </div>\n",
        "    </a>\n",
        "  </li>\n",
        "    \n",
        "  <li>\n",
        "    <a href=\"../postgres-gemini-chromadb/\" class=\"inline-flex w-full cursor-pointer items-center justify-between rounded-lg border border-gray-200 bg-white p-5 text-gray-500 hover:bg-gray-100 hover:text-gray-600 peer-checked:border-blue-600 peer-checked:text-blue-600 dark:border-gray-700 dark:bg-gray-800 dark:text-gray-400 dark:hover:bg-gray-700 dark:hover:text-gray-300 dark:peer-checked:text-blue-500\">\n",
        "      <div class=\"block\">\n",
        "        <div class=\"w-full text-lg font-semibold\">Google Gemini</div>\n",
        "        <small class=\"w-full\">Use Google Gemini with your Gemini or Vertex API Key</small>\n",
        "      </div>\n",
        "    </a>\n",
        "  </li>\n",
        "    \n",
        "  <li>\n",
        "    <a href=\"../postgres-mistral-chromadb/\" class=\"inline-flex w-full cursor-pointer items-center justify-between rounded-lg border border-gray-200 bg-white p-5 text-gray-500 hover:bg-gray-100 hover:text-gray-600 peer-checked:border-blue-600 peer-checked:text-blue-600 dark:border-gray-700 dark:bg-gray-800 dark:text-gray-400 dark:hover:bg-gray-700 dark:hover:text-gray-300 dark:peer-checked:text-blue-500\">\n",
        "      <div class=\"block\">\n",
        "        <div class=\"w-full text-lg font-semibold\">Mistral via Mistral API</div>\n",
        "        <small class=\"w-full\">If you have a Mistral API key</small>\n",
        "      </div>\n",
        "    </a>\n",
        "  </li>\n",
        "    \n",
        "  <li>\n",
        "    <a href=\"../postgres-other-llm-chromadb/\" class=\"inline-flex w-full cursor-pointer items-center justify-between rounded-lg border border-gray-200 bg-white p-5 text-gray-500 hover:bg-gray-100 hover:text-gray-600 peer-checked:border-blue-600 peer-checked:text-blue-600 dark:border-gray-700 dark:bg-gray-800 dark:text-gray-400 dark:hover:bg-gray-700 dark:hover:text-gray-300 dark:peer-checked:text-blue-500\">\n",
        "      <div class=\"block\">\n",
        "        <div class=\"w-full text-lg font-semibold\">Other LLM</div>\n",
        "        <small class=\"w-full\">If you have a different LLM model</small>\n",
        "      </div>\n",
        "    </a>\n",
        "  </li>\n",
        "    \n",
        "</ul>\n",
        "    "
      ]
    },
    {
      "id": "2a872f5e-1bf4-54c2-9f38-61c13588e943",
      "cell_type": "markdown",
      "metadata": {
        "id": "2a872f5e-1bf4-54c2-9f38-61c13588e943"
      },
      "source": [
        "\n",
        "<h3 class=\"mb-5 text-lg font-medium text-gray-900 dark:text-white\">Where do you want to store the 'training' data?</h3>\n",
        "<ul class=\"grid w-full gap-6 md:grid-cols-2\">\n",
        "    \n",
        "  <li>\n",
        "    <a href=\"../postgres-openai-standard-vannadb/\" class=\"inline-flex w-full cursor-pointer items-center justify-between rounded-lg border border-gray-200 bg-white p-5 text-gray-500 hover:bg-gray-100 hover:text-gray-600 peer-checked:border-blue-600 peer-checked:text-blue-600 dark:border-gray-700 dark:bg-gray-800 dark:text-gray-400 dark:hover:bg-gray-700 dark:hover:text-gray-300 dark:peer-checked:text-blue-500\">\n",
        "      <div class=\"block\">\n",
        "        <div class=\"w-full text-lg font-semibold\">Vanna Hosted Vector DB (Recommended)</div>\n",
        "        <small class=\"w-full\">Use Vanna.AIs hosted vector database (pgvector) for free. This is usable across machines with no additional setup.</small>\n",
        "      </div>\n",
        "    </a>\n",
        "  </li>\n",
        "    \n",
        "  <li>\n",
        "    <span class=\"inline-flex w-full cursor-pointer items-center justify-between rounded-lg border bg-white p-5 border-blue-600 text-blue-600 dark:bg-gray-800 dark:text-blue-500\">\n",
        "      <div class=\"block\">\n",
        "        <div class=\"w-full text-lg font-semibold\"><span class=\"hidden\">[Selected]</span> ChromaDB</div>\n",
        "        <small class=\"w-full\">Use ChromaDBs open-source vector database for free locally. No additional setup is necessary -- all database files will be created and stored locally.</small>\n",
        "      </div>\n",
        "    </span>\n",
        "  </li>\n",
        "  \n",
        "  <li>\n",
        "    <a href=\"../postgres-openai-standard-qdrant/\" class=\"inline-flex w-full cursor-pointer items-center justify-between rounded-lg border border-gray-200 bg-white p-5 text-gray-500 hover:bg-gray-100 hover:text-gray-600 peer-checked:border-blue-600 peer-checked:text-blue-600 dark:border-gray-700 dark:bg-gray-800 dark:text-gray-400 dark:hover:bg-gray-700 dark:hover:text-gray-300 dark:peer-checked:text-blue-500\">\n",
        "      <div class=\"block\">\n",
        "        <div class=\"w-full text-lg font-semibold\">Qdrant</div>\n",
        "        <small class=\"w-full\">Use Qdrants open-source vector database</small>\n",
        "      </div>\n",
        "    </a>\n",
        "  </li>\n",
        "    \n",
        "  <li>\n",
        "    <a href=\"../postgres-openai-standard-marqo/\" class=\"inline-flex w-full cursor-pointer items-center justify-between rounded-lg border border-gray-200 bg-white p-5 text-gray-500 hover:bg-gray-100 hover:text-gray-600 peer-checked:border-blue-600 peer-checked:text-blue-600 dark:border-gray-700 dark:bg-gray-800 dark:text-gray-400 dark:hover:bg-gray-700 dark:hover:text-gray-300 dark:peer-checked:text-blue-500\">\n",
        "      <div class=\"block\">\n",
        "        <div class=\"w-full text-lg font-semibold\">Marqo</div>\n",
        "        <small class=\"w-full\">Use Marqo locally for free. Requires additional setup. Or use their hosted option.</small>\n",
        "      </div>\n",
        "    </a>\n",
        "  </li>\n",
        "    \n",
        "  <li>\n",
        "    <a href=\"../postgres-openai-standard-other-vectordb/\" class=\"inline-flex w-full cursor-pointer items-center justify-between rounded-lg border border-gray-200 bg-white p-5 text-gray-500 hover:bg-gray-100 hover:text-gray-600 peer-checked:border-blue-600 peer-checked:text-blue-600 dark:border-gray-700 dark:bg-gray-800 dark:text-gray-400 dark:hover:bg-gray-700 dark:hover:text-gray-300 dark:peer-checked:text-blue-500\">\n",
        "      <div class=\"block\">\n",
        "        <div class=\"w-full text-lg font-semibold\">Other VectorDB</div>\n",
        "        <small class=\"w-full\">Use any other vector database. Requires additional setup.</small>\n",
        "      </div>\n",
        "    </a>\n",
        "  </li>\n",
        "    \n",
        "</ul>\n",
        "    "
      ]
    },
    {
      "id": "ee059407-58ac-50fa-843a-7b876328df13",
      "cell_type": "markdown",
      "metadata": {
        "id": "ee059407-58ac-50fa-843a-7b876328df13"
      },
      "source": [
        "## Setup"
      ]
    },
    {
      "id": "30b351fd-e454-5983-b4aa-a522759a1dbe",
      "cell_type": "code",
      "execution_count": 1,
      "metadata": {
        "id": "30b351fd-e454-5983-b4aa-a522759a1dbe",
        "colab": {
          "base_uri": "https://localhost:8080/"
        },
        "outputId": "84c2e656-acce-4a7f-8afa-45a5a4bff70e"
      },
      "outputs": [
        {
          "output_type": "stream",
          "name": "stdout",
          "text": [
            "Collecting vanna[chromadb,openai,postgres]\n",
            "  Downloading vanna-0.6.2-py3-none-any.whl (180 kB)\n",
            "\u001b[2K     \u001b[90m━━━━━━━━━━━━━━━━━━━━━━━━━━━━━━━━━━━━━━━━\u001b[0m \u001b[32m180.3/180.3 kB\u001b[0m \u001b[31m1.1 MB/s\u001b[0m eta \u001b[36m0:00:00\u001b[0m\n",
            "\u001b[?25hRequirement already satisfied: requests in /usr/local/lib/python3.10/dist-packages (from vanna[chromadb,openai,postgres]) (2.31.0)\n",
            "Requirement already satisfied: tabulate in /usr/local/lib/python3.10/dist-packages (from vanna[chromadb,openai,postgres]) (0.9.0)\n",
            "Requirement already satisfied: plotly in /usr/local/lib/python3.10/dist-packages (from vanna[chromadb,openai,postgres]) (5.15.0)\n",
            "Requirement already satisfied: pandas in /usr/local/lib/python3.10/dist-packages (from vanna[chromadb,openai,postgres]) (2.0.3)\n",
            "Requirement already satisfied: sqlparse in /usr/local/lib/python3.10/dist-packages (from vanna[chromadb,openai,postgres]) (0.5.0)\n",
            "Collecting kaleido (from vanna[chromadb,openai,postgres])\n",
            "  Downloading kaleido-0.2.1-py2.py3-none-manylinux1_x86_64.whl (79.9 MB)\n",
            "\u001b[2K     \u001b[90m━━━━━━━━━━━━━━━━━━━━━━━━━━━━━━━━━━━━━━━━\u001b[0m \u001b[32m79.9/79.9 MB\u001b[0m \u001b[31m6.9 MB/s\u001b[0m eta \u001b[36m0:00:00\u001b[0m\n",
            "\u001b[?25hRequirement already satisfied: flask in /usr/local/lib/python3.10/dist-packages (from vanna[chromadb,openai,postgres]) (2.2.5)\n",
            "Collecting flask-sock (from vanna[chromadb,openai,postgres])\n",
            "  Downloading flask_sock-0.7.0-py3-none-any.whl (4.0 kB)\n",
            "Requirement already satisfied: sqlalchemy in /usr/local/lib/python3.10/dist-packages (from vanna[chromadb,openai,postgres]) (2.0.31)\n",
            "Collecting chromadb (from vanna[chromadb,openai,postgres])\n",
            "  Downloading chromadb-0.5.3-py3-none-any.whl (559 kB)\n",
            "\u001b[2K     \u001b[90m━━━━━━━━━━━━━━━━━━━━━━━━━━━━━━━━━━━━━━━━\u001b[0m \u001b[32m559.5/559.5 kB\u001b[0m \u001b[31m22.6 MB/s\u001b[0m eta \u001b[36m0:00:00\u001b[0m\n",
            "\u001b[?25hCollecting psycopg2-binary (from vanna[chromadb,openai,postgres])\n",
            "  Downloading psycopg2_binary-2.9.9-cp310-cp310-manylinux_2_17_x86_64.manylinux2014_x86_64.whl (3.0 MB)\n",
            "\u001b[2K     \u001b[90m━━━━━━━━━━━━━━━━━━━━━━━━━━━━━━━━━━━━━━━━\u001b[0m \u001b[32m3.0/3.0 MB\u001b[0m \u001b[31m27.7 MB/s\u001b[0m eta \u001b[36m0:00:00\u001b[0m\n",
            "\u001b[?25hRequirement already satisfied: db-dtypes in /usr/local/lib/python3.10/dist-packages (from vanna[chromadb,openai,postgres]) (1.2.0)\n",
            "Collecting openai (from vanna[chromadb,openai,postgres])\n",
            "  Downloading openai-1.35.7-py3-none-any.whl (327 kB)\n",
            "\u001b[2K     \u001b[90m━━━━━━━━━━━━━━━━━━━━━━━━━━━━━━━━━━━━━━━━\u001b[0m \u001b[32m327.5/327.5 kB\u001b[0m \u001b[31m13.8 MB/s\u001b[0m eta \u001b[36m0:00:00\u001b[0m\n",
            "\u001b[?25hRequirement already satisfied: build>=1.0.3 in /usr/local/lib/python3.10/dist-packages (from chromadb->vanna[chromadb,openai,postgres]) (1.2.1)\n",
            "Requirement already satisfied: pydantic>=1.9 in /usr/local/lib/python3.10/dist-packages (from chromadb->vanna[chromadb,openai,postgres]) (2.7.4)\n",
            "Collecting chroma-hnswlib==0.7.3 (from chromadb->vanna[chromadb,openai,postgres])\n",
            "  Downloading chroma_hnswlib-0.7.3-cp310-cp310-manylinux_2_17_x86_64.manylinux2014_x86_64.whl (2.4 MB)\n",
            "\u001b[2K     \u001b[90m━━━━━━━━━━━━━━━━━━━━━━━━━━━━━━━━━━━━━━━━\u001b[0m \u001b[32m2.4/2.4 MB\u001b[0m \u001b[31m61.4 MB/s\u001b[0m eta \u001b[36m0:00:00\u001b[0m\n",
            "\u001b[?25hCollecting fastapi>=0.95.2 (from chromadb->vanna[chromadb,openai,postgres])\n",
            "  Downloading fastapi-0.111.0-py3-none-any.whl (91 kB)\n",
            "\u001b[2K     \u001b[90m━━━━━━━━━━━━━━━━━━━━━━━━━━━━━━━━━━━━━━━━\u001b[0m \u001b[32m92.0/92.0 kB\u001b[0m \u001b[31m6.4 MB/s\u001b[0m eta \u001b[36m0:00:00\u001b[0m\n",
            "\u001b[?25hCollecting uvicorn[standard]>=0.18.3 (from chromadb->vanna[chromadb,openai,postgres])\n",
            "  Downloading uvicorn-0.30.1-py3-none-any.whl (62 kB)\n",
            "\u001b[2K     \u001b[90m━━━━━━━━━━━━━━━━━━━━━━━━━━━━━━━━━━━━━━━━\u001b[0m \u001b[32m62.4/62.4 kB\u001b[0m \u001b[31m4.8 MB/s\u001b[0m eta \u001b[36m0:00:00\u001b[0m\n",
            "\u001b[?25hRequirement already satisfied: numpy<2.0.0,>=1.22.5 in /usr/local/lib/python3.10/dist-packages (from chromadb->vanna[chromadb,openai,postgres]) (1.25.2)\n",
            "Collecting posthog>=2.4.0 (from chromadb->vanna[chromadb,openai,postgres])\n",
            "  Downloading posthog-3.5.0-py2.py3-none-any.whl (41 kB)\n",
            "\u001b[2K     \u001b[90m━━━━━━━━━━━━━━━━━━━━━━━━━━━━━━━━━━━━━━━━\u001b[0m \u001b[32m41.3/41.3 kB\u001b[0m \u001b[31m2.9 MB/s\u001b[0m eta \u001b[36m0:00:00\u001b[0m\n",
            "\u001b[?25hRequirement already satisfied: typing-extensions>=4.5.0 in /usr/local/lib/python3.10/dist-packages (from chromadb->vanna[chromadb,openai,postgres]) (4.12.2)\n",
            "Collecting onnxruntime>=1.14.1 (from chromadb->vanna[chromadb,openai,postgres])\n",
            "  Downloading onnxruntime-1.18.1-cp310-cp310-manylinux_2_27_x86_64.manylinux_2_28_x86_64.whl (6.8 MB)\n",
            "\u001b[2K     \u001b[90m━━━━━━━━━━━━━━━━━━━━━━━━━━━━━━━━━━━━━━━━\u001b[0m \u001b[32m6.8/6.8 MB\u001b[0m \u001b[31m45.2 MB/s\u001b[0m eta \u001b[36m0:00:00\u001b[0m\n",
            "\u001b[?25hCollecting opentelemetry-api>=1.2.0 (from chromadb->vanna[chromadb,openai,postgres])\n",
            "  Downloading opentelemetry_api-1.25.0-py3-none-any.whl (59 kB)\n",
            "\u001b[2K     \u001b[90m━━━━━━━━━━━━━━━━━━━━━━━━━━━━━━━━━━━━━━━━\u001b[0m \u001b[32m59.9/59.9 kB\u001b[0m \u001b[31m4.3 MB/s\u001b[0m eta \u001b[36m0:00:00\u001b[0m\n",
            "\u001b[?25hCollecting opentelemetry-exporter-otlp-proto-grpc>=1.2.0 (from chromadb->vanna[chromadb,openai,postgres])\n",
            "  Downloading opentelemetry_exporter_otlp_proto_grpc-1.25.0-py3-none-any.whl (18 kB)\n",
            "Collecting opentelemetry-instrumentation-fastapi>=0.41b0 (from chromadb->vanna[chromadb,openai,postgres])\n",
            "  Downloading opentelemetry_instrumentation_fastapi-0.46b0-py3-none-any.whl (11 kB)\n",
            "Collecting opentelemetry-sdk>=1.2.0 (from chromadb->vanna[chromadb,openai,postgres])\n",
            "  Downloading opentelemetry_sdk-1.25.0-py3-none-any.whl (107 kB)\n",
            "\u001b[2K     \u001b[90m━━━━━━━━━━━━━━━━━━━━━━━━━━━━━━━━━━━━━━━━\u001b[0m \u001b[32m107.0/107.0 kB\u001b[0m \u001b[31m6.7 MB/s\u001b[0m eta \u001b[36m0:00:00\u001b[0m\n",
            "\u001b[?25hRequirement already satisfied: tokenizers>=0.13.2 in /usr/local/lib/python3.10/dist-packages (from chromadb->vanna[chromadb,openai,postgres]) (0.19.1)\n",
            "Collecting pypika>=0.48.9 (from chromadb->vanna[chromadb,openai,postgres])\n",
            "  Downloading PyPika-0.48.9.tar.gz (67 kB)\n",
            "\u001b[2K     \u001b[90m━━━━━━━━━━━━━━━━━━━━━━━━━━━━━━━━━━━━━━━━\u001b[0m \u001b[32m67.3/67.3 kB\u001b[0m \u001b[31m4.0 MB/s\u001b[0m eta \u001b[36m0:00:00\u001b[0m\n",
            "\u001b[?25h  Installing build dependencies ... \u001b[?25l\u001b[?25hdone\n",
            "  Getting requirements to build wheel ... \u001b[?25l\u001b[?25hdone\n",
            "  Preparing metadata (pyproject.toml) ... \u001b[?25l\u001b[?25hdone\n",
            "Requirement already satisfied: tqdm>=4.65.0 in /usr/local/lib/python3.10/dist-packages (from chromadb->vanna[chromadb,openai,postgres]) (4.66.4)\n",
            "Collecting overrides>=7.3.1 (from chromadb->vanna[chromadb,openai,postgres])\n",
            "  Downloading overrides-7.7.0-py3-none-any.whl (17 kB)\n",
            "Requirement already satisfied: importlib-resources in /usr/local/lib/python3.10/dist-packages (from chromadb->vanna[chromadb,openai,postgres]) (6.4.0)\n",
            "Requirement already satisfied: grpcio>=1.58.0 in /usr/local/lib/python3.10/dist-packages (from chromadb->vanna[chromadb,openai,postgres]) (1.64.1)\n",
            "Collecting bcrypt>=4.0.1 (from chromadb->vanna[chromadb,openai,postgres])\n",
            "  Downloading bcrypt-4.1.3-cp39-abi3-manylinux_2_28_x86_64.whl (283 kB)\n",
            "\u001b[2K     \u001b[90m━━━━━━━━━━━━━━━━━━━━━━━━━━━━━━━━━━━━━━━━\u001b[0m \u001b[32m283.7/283.7 kB\u001b[0m \u001b[31m28.5 MB/s\u001b[0m eta \u001b[36m0:00:00\u001b[0m\n",
            "\u001b[?25hRequirement already satisfied: typer>=0.9.0 in /usr/local/lib/python3.10/dist-packages (from chromadb->vanna[chromadb,openai,postgres]) (0.12.3)\n",
            "Collecting kubernetes>=28.1.0 (from chromadb->vanna[chromadb,openai,postgres])\n",
            "  Downloading kubernetes-30.1.0-py2.py3-none-any.whl (1.7 MB)\n",
            "\u001b[2K     \u001b[90m━━━━━━━━━━━━━━━━━━━━━━━━━━━━━━━━━━━━━━━━\u001b[0m \u001b[32m1.7/1.7 MB\u001b[0m \u001b[31m61.2 MB/s\u001b[0m eta \u001b[36m0:00:00\u001b[0m\n",
            "\u001b[?25hRequirement already satisfied: tenacity>=8.2.3 in /usr/local/lib/python3.10/dist-packages (from chromadb->vanna[chromadb,openai,postgres]) (8.4.2)\n",
            "Requirement already satisfied: PyYAML>=6.0.0 in /usr/local/lib/python3.10/dist-packages (from chromadb->vanna[chromadb,openai,postgres]) (6.0.1)\n",
            "Collecting mmh3>=4.0.1 (from chromadb->vanna[chromadb,openai,postgres])\n",
            "  Downloading mmh3-4.1.0-cp310-cp310-manylinux_2_5_x86_64.manylinux1_x86_64.manylinux_2_17_x86_64.manylinux2014_x86_64.whl (67 kB)\n",
            "\u001b[2K     \u001b[90m━━━━━━━━━━━━━━━━━━━━━━━━━━━━━━━━━━━━━━━━\u001b[0m \u001b[32m67.6/67.6 kB\u001b[0m \u001b[31m7.2 MB/s\u001b[0m eta \u001b[36m0:00:00\u001b[0m\n",
            "\u001b[?25hCollecting orjson>=3.9.12 (from chromadb->vanna[chromadb,openai,postgres])\n",
            "  Downloading orjson-3.10.5-cp310-cp310-manylinux_2_17_x86_64.manylinux2014_x86_64.whl (144 kB)\n",
            "\u001b[2K     \u001b[90m━━━━━━━━━━━━━━━━━━━━━━━━━━━━━━━━━━━━━━━━\u001b[0m \u001b[32m145.0/145.0 kB\u001b[0m \u001b[31m4.9 MB/s\u001b[0m eta \u001b[36m0:00:00\u001b[0m\n",
            "\u001b[?25hCollecting httpx>=0.27.0 (from chromadb->vanna[chromadb,openai,postgres])\n",
            "  Downloading httpx-0.27.0-py3-none-any.whl (75 kB)\n",
            "\u001b[2K     \u001b[90m━━━━━━━━━━━━━━━━━━━━━━━━━━━━━━━━━━━━━━━━\u001b[0m \u001b[32m75.6/75.6 kB\u001b[0m \u001b[31m6.1 MB/s\u001b[0m eta \u001b[36m0:00:00\u001b[0m\n",
            "\u001b[?25hRequirement already satisfied: charset-normalizer<4,>=2 in /usr/local/lib/python3.10/dist-packages (from requests->vanna[chromadb,openai,postgres]) (3.3.2)\n",
            "Requirement already satisfied: idna<4,>=2.5 in /usr/local/lib/python3.10/dist-packages (from requests->vanna[chromadb,openai,postgres]) (3.7)\n",
            "Requirement already satisfied: urllib3<3,>=1.21.1 in /usr/local/lib/python3.10/dist-packages (from requests->vanna[chromadb,openai,postgres]) (2.0.7)\n",
            "Requirement already satisfied: certifi>=2017.4.17 in /usr/local/lib/python3.10/dist-packages (from requests->vanna[chromadb,openai,postgres]) (2024.6.2)\n",
            "Requirement already satisfied: packaging>=17.0 in /usr/local/lib/python3.10/dist-packages (from db-dtypes->vanna[chromadb,openai,postgres]) (24.1)\n",
            "Requirement already satisfied: pyarrow>=3.0.0 in /usr/local/lib/python3.10/dist-packages (from db-dtypes->vanna[chromadb,openai,postgres]) (14.0.2)\n",
            "Requirement already satisfied: python-dateutil>=2.8.2 in /usr/local/lib/python3.10/dist-packages (from pandas->vanna[chromadb,openai,postgres]) (2.8.2)\n",
            "Requirement already satisfied: pytz>=2020.1 in /usr/local/lib/python3.10/dist-packages (from pandas->vanna[chromadb,openai,postgres]) (2023.4)\n",
            "Requirement already satisfied: tzdata>=2022.1 in /usr/local/lib/python3.10/dist-packages (from pandas->vanna[chromadb,openai,postgres]) (2024.1)\n",
            "Requirement already satisfied: Werkzeug>=2.2.2 in /usr/local/lib/python3.10/dist-packages (from flask->vanna[chromadb,openai,postgres]) (3.0.3)\n",
            "Requirement already satisfied: Jinja2>=3.0 in /usr/local/lib/python3.10/dist-packages (from flask->vanna[chromadb,openai,postgres]) (3.1.4)\n",
            "Requirement already satisfied: itsdangerous>=2.0 in /usr/local/lib/python3.10/dist-packages (from flask->vanna[chromadb,openai,postgres]) (2.2.0)\n",
            "Requirement already satisfied: click>=8.0 in /usr/local/lib/python3.10/dist-packages (from flask->vanna[chromadb,openai,postgres]) (8.1.7)\n",
            "Collecting simple-websocket>=0.5.1 (from flask-sock->vanna[chromadb,openai,postgres])\n",
            "  Downloading simple_websocket-1.0.0-py3-none-any.whl (13 kB)\n",
            "Requirement already satisfied: anyio<5,>=3.5.0 in /usr/local/lib/python3.10/dist-packages (from openai->vanna[chromadb,openai,postgres]) (3.7.1)\n",
            "Requirement already satisfied: distro<2,>=1.7.0 in /usr/lib/python3/dist-packages (from openai->vanna[chromadb,openai,postgres]) (1.7.0)\n",
            "Requirement already satisfied: sniffio in /usr/local/lib/python3.10/dist-packages (from openai->vanna[chromadb,openai,postgres]) (1.3.1)\n",
            "Requirement already satisfied: greenlet!=0.4.17 in /usr/local/lib/python3.10/dist-packages (from sqlalchemy->vanna[chromadb,openai,postgres]) (3.0.3)\n",
            "Requirement already satisfied: exceptiongroup in /usr/local/lib/python3.10/dist-packages (from anyio<5,>=3.5.0->openai->vanna[chromadb,openai,postgres]) (1.2.1)\n",
            "Requirement already satisfied: pyproject_hooks in /usr/local/lib/python3.10/dist-packages (from build>=1.0.3->chromadb->vanna[chromadb,openai,postgres]) (1.1.0)\n",
            "Requirement already satisfied: tomli>=1.1.0 in /usr/local/lib/python3.10/dist-packages (from build>=1.0.3->chromadb->vanna[chromadb,openai,postgres]) (2.0.1)\n",
            "Collecting starlette<0.38.0,>=0.37.2 (from fastapi>=0.95.2->chromadb->vanna[chromadb,openai,postgres])\n",
            "  Downloading starlette-0.37.2-py3-none-any.whl (71 kB)\n",
            "\u001b[2K     \u001b[90m━━━━━━━━━━━━━━━━━━━━━━━━━━━━━━━━━━━━━━━━\u001b[0m \u001b[32m71.9/71.9 kB\u001b[0m \u001b[31m5.9 MB/s\u001b[0m eta \u001b[36m0:00:00\u001b[0m\n",
            "\u001b[?25hCollecting fastapi-cli>=0.0.2 (from fastapi>=0.95.2->chromadb->vanna[chromadb,openai,postgres])\n",
            "  Downloading fastapi_cli-0.0.4-py3-none-any.whl (9.5 kB)\n",
            "Collecting python-multipart>=0.0.7 (from fastapi>=0.95.2->chromadb->vanna[chromadb,openai,postgres])\n",
            "  Downloading python_multipart-0.0.9-py3-none-any.whl (22 kB)\n",
            "Collecting ujson!=4.0.2,!=4.1.0,!=4.2.0,!=4.3.0,!=5.0.0,!=5.1.0,>=4.0.1 (from fastapi>=0.95.2->chromadb->vanna[chromadb,openai,postgres])\n",
            "  Downloading ujson-5.10.0-cp310-cp310-manylinux_2_17_x86_64.manylinux2014_x86_64.whl (53 kB)\n",
            "\u001b[2K     \u001b[90m━━━━━━━━━━━━━━━━━━━━━━━━━━━━━━━━━━━━━━━━\u001b[0m \u001b[32m53.6/53.6 kB\u001b[0m \u001b[31m1.2 MB/s\u001b[0m eta \u001b[36m0:00:00\u001b[0m\n",
            "\u001b[?25hCollecting email_validator>=2.0.0 (from fastapi>=0.95.2->chromadb->vanna[chromadb,openai,postgres])\n",
            "  Downloading email_validator-2.2.0-py3-none-any.whl (33 kB)\n",
            "Collecting httpcore==1.* (from httpx>=0.27.0->chromadb->vanna[chromadb,openai,postgres])\n",
            "  Downloading httpcore-1.0.5-py3-none-any.whl (77 kB)\n",
            "\u001b[2K     \u001b[90m━━━━━━━━━━━━━━━━━━━━━━━━━━━━━━━━━━━━━━━━\u001b[0m \u001b[32m77.9/77.9 kB\u001b[0m \u001b[31m7.3 MB/s\u001b[0m eta \u001b[36m0:00:00\u001b[0m\n",
            "\u001b[?25hCollecting h11<0.15,>=0.13 (from httpcore==1.*->httpx>=0.27.0->chromadb->vanna[chromadb,openai,postgres])\n",
            "  Downloading h11-0.14.0-py3-none-any.whl (58 kB)\n",
            "\u001b[2K     \u001b[90m━━━━━━━━━━━━━━━━━━━━━━━━━━━━━━━━━━━━━━━━\u001b[0m \u001b[32m58.3/58.3 kB\u001b[0m \u001b[31m4.8 MB/s\u001b[0m eta \u001b[36m0:00:00\u001b[0m\n",
            "\u001b[?25hRequirement already satisfied: MarkupSafe>=2.0 in /usr/local/lib/python3.10/dist-packages (from Jinja2>=3.0->flask->vanna[chromadb,openai,postgres]) (2.1.5)\n",
            "Requirement already satisfied: six>=1.9.0 in /usr/local/lib/python3.10/dist-packages (from kubernetes>=28.1.0->chromadb->vanna[chromadb,openai,postgres]) (1.16.0)\n",
            "Requirement already satisfied: google-auth>=1.0.1 in /usr/local/lib/python3.10/dist-packages (from kubernetes>=28.1.0->chromadb->vanna[chromadb,openai,postgres]) (2.27.0)\n",
            "Requirement already satisfied: websocket-client!=0.40.0,!=0.41.*,!=0.42.*,>=0.32.0 in /usr/local/lib/python3.10/dist-packages (from kubernetes>=28.1.0->chromadb->vanna[chromadb,openai,postgres]) (1.8.0)\n",
            "Requirement already satisfied: requests-oauthlib in /usr/local/lib/python3.10/dist-packages (from kubernetes>=28.1.0->chromadb->vanna[chromadb,openai,postgres]) (1.3.1)\n",
            "Requirement already satisfied: oauthlib>=3.2.2 in /usr/local/lib/python3.10/dist-packages (from kubernetes>=28.1.0->chromadb->vanna[chromadb,openai,postgres]) (3.2.2)\n",
            "Collecting coloredlogs (from onnxruntime>=1.14.1->chromadb->vanna[chromadb,openai,postgres])\n",
            "  Downloading coloredlogs-15.0.1-py2.py3-none-any.whl (46 kB)\n",
            "\u001b[2K     \u001b[90m━━━━━━━━━━━━━━━━━━━━━━━━━━━━━━━━━━━━━━━━\u001b[0m \u001b[32m46.0/46.0 kB\u001b[0m \u001b[31m3.6 MB/s\u001b[0m eta \u001b[36m0:00:00\u001b[0m\n",
            "\u001b[?25hRequirement already satisfied: flatbuffers in /usr/local/lib/python3.10/dist-packages (from onnxruntime>=1.14.1->chromadb->vanna[chromadb,openai,postgres]) (24.3.25)\n",
            "Requirement already satisfied: protobuf in /usr/local/lib/python3.10/dist-packages (from onnxruntime>=1.14.1->chromadb->vanna[chromadb,openai,postgres]) (3.20.3)\n",
            "Requirement already satisfied: sympy in /usr/local/lib/python3.10/dist-packages (from onnxruntime>=1.14.1->chromadb->vanna[chromadb,openai,postgres]) (1.12.1)\n",
            "Collecting deprecated>=1.2.6 (from opentelemetry-api>=1.2.0->chromadb->vanna[chromadb,openai,postgres])\n",
            "  Downloading Deprecated-1.2.14-py2.py3-none-any.whl (9.6 kB)\n",
            "Collecting importlib-metadata<=7.1,>=6.0 (from opentelemetry-api>=1.2.0->chromadb->vanna[chromadb,openai,postgres])\n",
            "  Downloading importlib_metadata-7.1.0-py3-none-any.whl (24 kB)\n",
            "Requirement already satisfied: googleapis-common-protos~=1.52 in /usr/local/lib/python3.10/dist-packages (from opentelemetry-exporter-otlp-proto-grpc>=1.2.0->chromadb->vanna[chromadb,openai,postgres]) (1.63.2)\n",
            "Collecting opentelemetry-exporter-otlp-proto-common==1.25.0 (from opentelemetry-exporter-otlp-proto-grpc>=1.2.0->chromadb->vanna[chromadb,openai,postgres])\n",
            "  Downloading opentelemetry_exporter_otlp_proto_common-1.25.0-py3-none-any.whl (17 kB)\n",
            "Collecting opentelemetry-proto==1.25.0 (from opentelemetry-exporter-otlp-proto-grpc>=1.2.0->chromadb->vanna[chromadb,openai,postgres])\n",
            "  Downloading opentelemetry_proto-1.25.0-py3-none-any.whl (52 kB)\n",
            "\u001b[2K     \u001b[90m━━━━━━━━━━━━━━━━━━━━━━━━━━━━━━━━━━━━━━━━\u001b[0m \u001b[32m52.5/52.5 kB\u001b[0m \u001b[31m5.7 MB/s\u001b[0m eta \u001b[36m0:00:00\u001b[0m\n",
            "\u001b[?25hCollecting opentelemetry-instrumentation-asgi==0.46b0 (from opentelemetry-instrumentation-fastapi>=0.41b0->chromadb->vanna[chromadb,openai,postgres])\n",
            "  Downloading opentelemetry_instrumentation_asgi-0.46b0-py3-none-any.whl (14 kB)\n",
            "Collecting opentelemetry-instrumentation==0.46b0 (from opentelemetry-instrumentation-fastapi>=0.41b0->chromadb->vanna[chromadb,openai,postgres])\n",
            "  Downloading opentelemetry_instrumentation-0.46b0-py3-none-any.whl (29 kB)\n",
            "Collecting opentelemetry-semantic-conventions==0.46b0 (from opentelemetry-instrumentation-fastapi>=0.41b0->chromadb->vanna[chromadb,openai,postgres])\n",
            "  Downloading opentelemetry_semantic_conventions-0.46b0-py3-none-any.whl (130 kB)\n",
            "\u001b[2K     \u001b[90m━━━━━━━━━━━━━━━━━━━━━━━━━━━━━━━━━━━━━━━━\u001b[0m \u001b[32m130.5/130.5 kB\u001b[0m \u001b[31m10.0 MB/s\u001b[0m eta \u001b[36m0:00:00\u001b[0m\n",
            "\u001b[?25hCollecting opentelemetry-util-http==0.46b0 (from opentelemetry-instrumentation-fastapi>=0.41b0->chromadb->vanna[chromadb,openai,postgres])\n",
            "  Downloading opentelemetry_util_http-0.46b0-py3-none-any.whl (6.9 kB)\n",
            "Requirement already satisfied: setuptools>=16.0 in /usr/local/lib/python3.10/dist-packages (from opentelemetry-instrumentation==0.46b0->opentelemetry-instrumentation-fastapi>=0.41b0->chromadb->vanna[chromadb,openai,postgres]) (67.7.2)\n",
            "Requirement already satisfied: wrapt<2.0.0,>=1.0.0 in /usr/local/lib/python3.10/dist-packages (from opentelemetry-instrumentation==0.46b0->opentelemetry-instrumentation-fastapi>=0.41b0->chromadb->vanna[chromadb,openai,postgres]) (1.14.1)\n",
            "Collecting asgiref~=3.0 (from opentelemetry-instrumentation-asgi==0.46b0->opentelemetry-instrumentation-fastapi>=0.41b0->chromadb->vanna[chromadb,openai,postgres])\n",
            "  Downloading asgiref-3.8.1-py3-none-any.whl (23 kB)\n",
            "Collecting monotonic>=1.5 (from posthog>=2.4.0->chromadb->vanna[chromadb,openai,postgres])\n",
            "  Downloading monotonic-1.6-py2.py3-none-any.whl (8.2 kB)\n",
            "Collecting backoff>=1.10.0 (from posthog>=2.4.0->chromadb->vanna[chromadb,openai,postgres])\n",
            "  Downloading backoff-2.2.1-py3-none-any.whl (15 kB)\n",
            "Requirement already satisfied: annotated-types>=0.4.0 in /usr/local/lib/python3.10/dist-packages (from pydantic>=1.9->chromadb->vanna[chromadb,openai,postgres]) (0.7.0)\n",
            "Requirement already satisfied: pydantic-core==2.18.4 in /usr/local/lib/python3.10/dist-packages (from pydantic>=1.9->chromadb->vanna[chromadb,openai,postgres]) (2.18.4)\n",
            "Collecting wsproto (from simple-websocket>=0.5.1->flask-sock->vanna[chromadb,openai,postgres])\n",
            "  Downloading wsproto-1.2.0-py3-none-any.whl (24 kB)\n",
            "Requirement already satisfied: huggingface-hub<1.0,>=0.16.4 in /usr/local/lib/python3.10/dist-packages (from tokenizers>=0.13.2->chromadb->vanna[chromadb,openai,postgres]) (0.23.4)\n",
            "Requirement already satisfied: shellingham>=1.3.0 in /usr/local/lib/python3.10/dist-packages (from typer>=0.9.0->chromadb->vanna[chromadb,openai,postgres]) (1.5.4)\n",
            "Requirement already satisfied: rich>=10.11.0 in /usr/local/lib/python3.10/dist-packages (from typer>=0.9.0->chromadb->vanna[chromadb,openai,postgres]) (13.7.1)\n",
            "Collecting httptools>=0.5.0 (from uvicorn[standard]>=0.18.3->chromadb->vanna[chromadb,openai,postgres])\n",
            "  Downloading httptools-0.6.1-cp310-cp310-manylinux_2_5_x86_64.manylinux1_x86_64.manylinux_2_17_x86_64.manylinux2014_x86_64.whl (341 kB)\n",
            "\u001b[2K     \u001b[90m━━━━━━━━━━━━━━━━━━━━━━━━━━━━━━━━━━━━━━━━\u001b[0m \u001b[32m341.4/341.4 kB\u001b[0m \u001b[31m19.2 MB/s\u001b[0m eta \u001b[36m0:00:00\u001b[0m\n",
            "\u001b[?25hCollecting python-dotenv>=0.13 (from uvicorn[standard]>=0.18.3->chromadb->vanna[chromadb,openai,postgres])\n",
            "  Downloading python_dotenv-1.0.1-py3-none-any.whl (19 kB)\n",
            "Collecting uvloop!=0.15.0,!=0.15.1,>=0.14.0 (from uvicorn[standard]>=0.18.3->chromadb->vanna[chromadb,openai,postgres])\n",
            "  Downloading uvloop-0.19.0-cp310-cp310-manylinux_2_17_x86_64.manylinux2014_x86_64.whl (3.4 MB)\n",
            "\u001b[2K     \u001b[90m━━━━━━━━━━━━━━━━━━━━━━━━━━━━━━━━━━━━━━━━\u001b[0m \u001b[32m3.4/3.4 MB\u001b[0m \u001b[31m47.9 MB/s\u001b[0m eta \u001b[36m0:00:00\u001b[0m\n",
            "\u001b[?25hCollecting watchfiles>=0.13 (from uvicorn[standard]>=0.18.3->chromadb->vanna[chromadb,openai,postgres])\n",
            "  Downloading watchfiles-0.22.0-cp310-cp310-manylinux_2_17_x86_64.manylinux2014_x86_64.whl (1.2 MB)\n",
            "\u001b[2K     \u001b[90m━━━━━━━━━━━━━━━━━━━━━━━━━━━━━━━━━━━━━━━━\u001b[0m \u001b[32m1.2/1.2 MB\u001b[0m \u001b[31m45.3 MB/s\u001b[0m eta \u001b[36m0:00:00\u001b[0m\n",
            "\u001b[?25hCollecting websockets>=10.4 (from uvicorn[standard]>=0.18.3->chromadb->vanna[chromadb,openai,postgres])\n",
            "  Downloading websockets-12.0-cp310-cp310-manylinux_2_5_x86_64.manylinux1_x86_64.manylinux_2_17_x86_64.manylinux2014_x86_64.whl (130 kB)\n",
            "\u001b[2K     \u001b[90m━━━━━━━━━━━━━━━━━━━━━━━━━━━━━━━━━━━━━━━━\u001b[0m \u001b[32m130.2/130.2 kB\u001b[0m \u001b[31m10.5 MB/s\u001b[0m eta \u001b[36m0:00:00\u001b[0m\n",
            "\u001b[?25hCollecting dnspython>=2.0.0 (from email_validator>=2.0.0->fastapi>=0.95.2->chromadb->vanna[chromadb,openai,postgres])\n",
            "  Downloading dnspython-2.6.1-py3-none-any.whl (307 kB)\n",
            "\u001b[2K     \u001b[90m━━━━━━━━━━━━━━━━━━━━━━━━━━━━━━━━━━━━━━━━\u001b[0m \u001b[32m307.7/307.7 kB\u001b[0m \u001b[31m26.2 MB/s\u001b[0m eta \u001b[36m0:00:00\u001b[0m\n",
            "\u001b[?25hRequirement already satisfied: cachetools<6.0,>=2.0.0 in /usr/local/lib/python3.10/dist-packages (from google-auth>=1.0.1->kubernetes>=28.1.0->chromadb->vanna[chromadb,openai,postgres]) (5.3.3)\n",
            "Requirement already satisfied: pyasn1-modules>=0.2.1 in /usr/local/lib/python3.10/dist-packages (from google-auth>=1.0.1->kubernetes>=28.1.0->chromadb->vanna[chromadb,openai,postgres]) (0.4.0)\n",
            "Requirement already satisfied: rsa<5,>=3.1.4 in /usr/local/lib/python3.10/dist-packages (from google-auth>=1.0.1->kubernetes>=28.1.0->chromadb->vanna[chromadb,openai,postgres]) (4.9)\n",
            "Requirement already satisfied: filelock in /usr/local/lib/python3.10/dist-packages (from huggingface-hub<1.0,>=0.16.4->tokenizers>=0.13.2->chromadb->vanna[chromadb,openai,postgres]) (3.15.4)\n",
            "Requirement already satisfied: fsspec>=2023.5.0 in /usr/local/lib/python3.10/dist-packages (from huggingface-hub<1.0,>=0.16.4->tokenizers>=0.13.2->chromadb->vanna[chromadb,openai,postgres]) (2023.6.0)\n",
            "Requirement already satisfied: zipp>=0.5 in /usr/local/lib/python3.10/dist-packages (from importlib-metadata<=7.1,>=6.0->opentelemetry-api>=1.2.0->chromadb->vanna[chromadb,openai,postgres]) (3.19.2)\n",
            "Requirement already satisfied: markdown-it-py>=2.2.0 in /usr/local/lib/python3.10/dist-packages (from rich>=10.11.0->typer>=0.9.0->chromadb->vanna[chromadb,openai,postgres]) (3.0.0)\n",
            "Requirement already satisfied: pygments<3.0.0,>=2.13.0 in /usr/local/lib/python3.10/dist-packages (from rich>=10.11.0->typer>=0.9.0->chromadb->vanna[chromadb,openai,postgres]) (2.16.1)\n",
            "Collecting humanfriendly>=9.1 (from coloredlogs->onnxruntime>=1.14.1->chromadb->vanna[chromadb,openai,postgres])\n",
            "  Downloading humanfriendly-10.0-py2.py3-none-any.whl (86 kB)\n",
            "\u001b[2K     \u001b[90m━━━━━━━━━━━━━━━━━━━━━━━━━━━━━━━━━━━━━━━━\u001b[0m \u001b[32m86.8/86.8 kB\u001b[0m \u001b[31m5.2 MB/s\u001b[0m eta \u001b[36m0:00:00\u001b[0m\n",
            "\u001b[?25hRequirement already satisfied: mpmath<1.4.0,>=1.1.0 in /usr/local/lib/python3.10/dist-packages (from sympy->onnxruntime>=1.14.1->chromadb->vanna[chromadb,openai,postgres]) (1.3.0)\n",
            "Requirement already satisfied: mdurl~=0.1 in /usr/local/lib/python3.10/dist-packages (from markdown-it-py>=2.2.0->rich>=10.11.0->typer>=0.9.0->chromadb->vanna[chromadb,openai,postgres]) (0.1.2)\n",
            "Requirement already satisfied: pyasn1<0.7.0,>=0.4.6 in /usr/local/lib/python3.10/dist-packages (from pyasn1-modules>=0.2.1->google-auth>=1.0.1->kubernetes>=28.1.0->chromadb->vanna[chromadb,openai,postgres]) (0.6.0)\n",
            "Building wheels for collected packages: pypika\n",
            "  Building wheel for pypika (pyproject.toml) ... \u001b[?25l\u001b[?25hdone\n",
            "  Created wheel for pypika: filename=PyPika-0.48.9-py2.py3-none-any.whl size=53724 sha256=e384ffab45f1d7d8d87fa86b35df1c8f023190313c1c84cd5c3649b0500464dc\n",
            "  Stored in directory: /root/.cache/pip/wheels/e1/26/51/d0bffb3d2fd82256676d7ad3003faea3bd6dddc9577af665f4\n",
            "Successfully built pypika\n",
            "Installing collected packages: pypika, monotonic, mmh3, kaleido, websockets, uvloop, ujson, python-multipart, python-dotenv, psycopg2-binary, overrides, orjson, opentelemetry-util-http, opentelemetry-proto, importlib-metadata, humanfriendly, httptools, h11, dnspython, deprecated, chroma-hnswlib, bcrypt, backoff, asgiref, wsproto, watchfiles, uvicorn, starlette, posthog, opentelemetry-exporter-otlp-proto-common, opentelemetry-api, httpcore, email_validator, coloredlogs, simple-websocket, opentelemetry-semantic-conventions, opentelemetry-instrumentation, onnxruntime, kubernetes, httpx, opentelemetry-sdk, opentelemetry-instrumentation-asgi, openai, flask-sock, fastapi-cli, vanna, opentelemetry-instrumentation-fastapi, opentelemetry-exporter-otlp-proto-grpc, fastapi, chromadb\n",
            "  Attempting uninstall: importlib-metadata\n",
            "    Found existing installation: importlib_metadata 8.0.0\n",
            "    Uninstalling importlib_metadata-8.0.0:\n",
            "      Successfully uninstalled importlib_metadata-8.0.0\n",
            "Successfully installed asgiref-3.8.1 backoff-2.2.1 bcrypt-4.1.3 chroma-hnswlib-0.7.3 chromadb-0.5.3 coloredlogs-15.0.1 deprecated-1.2.14 dnspython-2.6.1 email_validator-2.2.0 fastapi-0.111.0 fastapi-cli-0.0.4 flask-sock-0.7.0 h11-0.14.0 httpcore-1.0.5 httptools-0.6.1 httpx-0.27.0 humanfriendly-10.0 importlib-metadata-7.1.0 kaleido-0.2.1 kubernetes-30.1.0 mmh3-4.1.0 monotonic-1.6 onnxruntime-1.18.1 openai-1.35.7 opentelemetry-api-1.25.0 opentelemetry-exporter-otlp-proto-common-1.25.0 opentelemetry-exporter-otlp-proto-grpc-1.25.0 opentelemetry-instrumentation-0.46b0 opentelemetry-instrumentation-asgi-0.46b0 opentelemetry-instrumentation-fastapi-0.46b0 opentelemetry-proto-1.25.0 opentelemetry-sdk-1.25.0 opentelemetry-semantic-conventions-0.46b0 opentelemetry-util-http-0.46b0 orjson-3.10.5 overrides-7.7.0 posthog-3.5.0 psycopg2-binary-2.9.9 pypika-0.48.9 python-dotenv-1.0.1 python-multipart-0.0.9 simple-websocket-1.0.0 starlette-0.37.2 ujson-5.10.0 uvicorn-0.30.1 uvloop-0.19.0 vanna-0.6.2 watchfiles-0.22.0 websockets-12.0 wsproto-1.2.0\n"
          ]
        }
      ],
      "source": [
        "%pip install 'vanna[chromadb,openai]'"
      ]
    },
    {
      "id": "52b8efb0-35ca-56e8-a286-bc08ed219bf0",
      "cell_type": "code",
      "execution_count": 1,
      "metadata": {
        "id": "52b8efb0-35ca-56e8-a286-bc08ed219bf0"
      },
      "outputs": [],
      "source": [
        "from vanna.openai import OpenAI_Chat\n",
        "from vanna.chromadb import ChromaDB_VectorStore\n"
      ]
    },
    {
      "id": "28a8d8a1-669f-5f8b-82c4-73a0eb221d64",
      "cell_type": "code",
      "execution_count": 2,
      "metadata": {
        "id": "28a8d8a1-669f-5f8b-82c4-73a0eb221d64"
      },
      "outputs": [],
      "source": [
        "from vanna.openai import OpenAI_Chat\n",
        "from vanna.vannadb import VannaDB_VectorStore\n",
        "class MyVanna(VannaDB_VectorStore, OpenAI_Chat):\n",
        "    def __init__(self, config=None):\n",
        "        MY_VANNA_MODEL = # Your model name from https://vanna.ai/account/profile\n",
        "        VannaDB_VectorStore.__init__(self, vanna_model=MY_VANNA_MODEL, vanna_api_key=MY_VANNA_API_KEY, config=config)\n",
        "        OpenAI_Chat.__init__(self, config=config)\n",
        "# Add your OpenAI api_key\n",
        "vn = MyVanna(config={'api_key': 'sk-...', 'model': 'gpt-4o'})"
      ]
    },
    {
      "id": "0a0b4949-603c-5d4f-b874-1676a7c8b19a",
      "cell_type": "markdown",
      "metadata": {
        "id": "0a0b4949-603c-5d4f-b874-1676a7c8b19a"
      },
      "source": [
        "\n",
        "<h3 class=\"mb-5 text-lg font-medium text-gray-900 dark:text-white\">Which database do you want to query?</h3>\n",
        "<ul class=\"grid w-full gap-6 md:grid-cols-2\">\n",
        "    \n",
        "  <li>\n",
        "    <span class=\"inline-flex w-full cursor-pointer items-center justify-between rounded-lg border bg-white p-5 border-blue-600 text-blue-600 dark:bg-gray-800 dark:text-blue-500\">\n",
        "      <div class=\"block\">\n",
        "        <div class=\"w-full text-lg font-semibold\"><span class=\"hidden\">[Selected]</span> Postgres</div>\n",
        "        <small class=\"w-full\"></small>\n",
        "      </div>\n",
        "    </span>\n",
        "  </li>\n",
        "  \n",
        "  <li>\n",
        "    <a href=\"../mssql-openai-standard-chromadb/\" class=\"inline-flex w-full cursor-pointer items-center justify-between rounded-lg border border-gray-200 bg-white p-5 text-gray-500 hover:bg-gray-100 hover:text-gray-600 peer-checked:border-blue-600 peer-checked:text-blue-600 dark:border-gray-700 dark:bg-gray-800 dark:text-gray-400 dark:hover:bg-gray-700 dark:hover:text-gray-300 dark:peer-checked:text-blue-500\">\n",
        "      <div class=\"block\">\n",
        "        <div class=\"w-full text-lg font-semibold\">Microsoft SQL Server</div>\n",
        "        <small class=\"w-full\"></small>\n",
        "      </div>\n",
        "    </a>\n",
        "  </li>\n",
        "    \n",
        "  <li>\n",
        "    <a href=\"../mysql-openai-standard-chromadb/\" class=\"inline-flex w-full cursor-pointer items-center justify-between rounded-lg border border-gray-200 bg-white p-5 text-gray-500 hover:bg-gray-100 hover:text-gray-600 peer-checked:border-blue-600 peer-checked:text-blue-600 dark:border-gray-700 dark:bg-gray-800 dark:text-gray-400 dark:hover:bg-gray-700 dark:hover:text-gray-300 dark:peer-checked:text-blue-500\">\n",
        "      <div class=\"block\">\n",
        "        <div class=\"w-full text-lg font-semibold\">MySQL</div>\n",
        "        <small class=\"w-full\"></small>\n",
        "      </div>\n",
        "    </a>\n",
        "  </li>\n",
        "    \n",
        "  <li>\n",
        "    <a href=\"../duckdb-openai-standard-chromadb/\" class=\"inline-flex w-full cursor-pointer items-center justify-between rounded-lg border border-gray-200 bg-white p-5 text-gray-500 hover:bg-gray-100 hover:text-gray-600 peer-checked:border-blue-600 peer-checked:text-blue-600 dark:border-gray-700 dark:bg-gray-800 dark:text-gray-400 dark:hover:bg-gray-700 dark:hover:text-gray-300 dark:peer-checked:text-blue-500\">\n",
        "      <div class=\"block\">\n",
        "        <div class=\"w-full text-lg font-semibold\">DuckDB</div>\n",
        "        <small class=\"w-full\"></small>\n",
        "      </div>\n",
        "    </a>\n",
        "  </li>\n",
        "    \n",
        "  <li>\n",
        "    <a href=\"../snowflake-openai-standard-chromadb/\" class=\"inline-flex w-full cursor-pointer items-center justify-between rounded-lg border border-gray-200 bg-white p-5 text-gray-500 hover:bg-gray-100 hover:text-gray-600 peer-checked:border-blue-600 peer-checked:text-blue-600 dark:border-gray-700 dark:bg-gray-800 dark:text-gray-400 dark:hover:bg-gray-700 dark:hover:text-gray-300 dark:peer-checked:text-blue-500\">\n",
        "      <div class=\"block\">\n",
        "        <div class=\"w-full text-lg font-semibold\">Snowflake</div>\n",
        "        <small class=\"w-full\"></small>\n",
        "      </div>\n",
        "    </a>\n",
        "  </li>\n",
        "    \n",
        "  <li>\n",
        "    <a href=\"../bigquery-openai-standard-chromadb/\" class=\"inline-flex w-full cursor-pointer items-center justify-between rounded-lg border border-gray-200 bg-white p-5 text-gray-500 hover:bg-gray-100 hover:text-gray-600 peer-checked:border-blue-600 peer-checked:text-blue-600 dark:border-gray-700 dark:bg-gray-800 dark:text-gray-400 dark:hover:bg-gray-700 dark:hover:text-gray-300 dark:peer-checked:text-blue-500\">\n",
        "      <div class=\"block\">\n",
        "        <div class=\"w-full text-lg font-semibold\">BigQuery</div>\n",
        "        <small class=\"w-full\"></small>\n",
        "      </div>\n",
        "    </a>\n",
        "  </li>\n",
        "    \n",
        "  <li>\n",
        "    <a href=\"../sqlite-openai-standard-chromadb/\" class=\"inline-flex w-full cursor-pointer items-center justify-between rounded-lg border border-gray-200 bg-white p-5 text-gray-500 hover:bg-gray-100 hover:text-gray-600 peer-checked:border-blue-600 peer-checked:text-blue-600 dark:border-gray-700 dark:bg-gray-800 dark:text-gray-400 dark:hover:bg-gray-700 dark:hover:text-gray-300 dark:peer-checked:text-blue-500\">\n",
        "      <div class=\"block\">\n",
        "        <div class=\"w-full text-lg font-semibold\">SQLite</div>\n",
        "        <small class=\"w-full\"></small>\n",
        "      </div>\n",
        "    </a>\n",
        "  </li>\n",
        "    \n",
        "  <li>\n",
        "    <a href=\"../oracle-openai-standard-chromadb/\" class=\"inline-flex w-full cursor-pointer items-center justify-between rounded-lg border border-gray-200 bg-white p-5 text-gray-500 hover:bg-gray-100 hover:text-gray-600 peer-checked:border-blue-600 peer-checked:text-blue-600 dark:border-gray-700 dark:bg-gray-800 dark:text-gray-400 dark:hover:bg-gray-700 dark:hover:text-gray-300 dark:peer-checked:text-blue-500\">\n",
        "      <div class=\"block\">\n",
        "        <div class=\"w-full text-lg font-semibold\">Oracle</div>\n",
        "        <small class=\"w-full\"></small>\n",
        "      </div>\n",
        "    </a>\n",
        "  </li>\n",
        "    \n",
        "  <li>\n",
        "    <a href=\"../other-database-openai-standard-chromadb/\" class=\"inline-flex w-full cursor-pointer items-center justify-between rounded-lg border border-gray-200 bg-white p-5 text-gray-500 hover:bg-gray-100 hover:text-gray-600 peer-checked:border-blue-600 peer-checked:text-blue-600 dark:border-gray-700 dark:bg-gray-800 dark:text-gray-400 dark:hover:bg-gray-700 dark:hover:text-gray-300 dark:peer-checked:text-blue-500\">\n",
        "      <div class=\"block\">\n",
        "        <div class=\"w-full text-lg font-semibold\">Other Database</div>\n",
        "        <small class=\"w-full\">Use Vanna to generate queries for any SQL database</small>\n",
        "      </div>\n",
        "    </a>\n",
        "  </li>\n",
        "    \n",
        "</ul>\n",
        "    "
      ]
    },
    {
      "cell_type": "code",
      "source": [
        "!pip install vn"
      ],
      "metadata": {
        "colab": {
          "base_uri": "https://localhost:8080/",
          "height": 587
        },
        "id": "cxBkQY-D8UUg",
        "outputId": "2940cd7f-9b34-44ed-abb5-2ab417bba7f1"
      },
      "id": "cxBkQY-D8UUg",
      "execution_count": 10,
      "outputs": [
        {
          "output_type": "stream",
          "name": "stdout",
          "text": [
            "Collecting vn\n",
            "  Downloading vn-1.0.16.tar.gz (2.6 kB)\n",
            "  Preparing metadata (setup.py) ... \u001b[?25l\u001b[?25hdone\n",
            "Collecting click==6.7 (from vn)\n",
            "  Downloading click-6.7-py2.py3-none-any.whl (71 kB)\n",
            "\u001b[2K     \u001b[90m━━━━━━━━━━━━━━━━━━━━━━━━━━━━━━━━━━━━━━━━\u001b[0m \u001b[32m71.2/71.2 kB\u001b[0m \u001b[31m806.1 kB/s\u001b[0m eta \u001b[36m0:00:00\u001b[0m\n",
            "\u001b[?25hBuilding wheels for collected packages: vn\n",
            "  Building wheel for vn (setup.py) ... \u001b[?25l\u001b[?25hdone\n",
            "  Created wheel for vn: filename=vn-1.0.16-py3-none-any.whl size=3166 sha256=c6c1f1b0adaa2c5df1d0cd2d89c2958ffd54fb4af5e29667e57e75faf380facd\n",
            "  Stored in directory: /root/.cache/pip/wheels/76/27/bc/a80f489c32aa124d03b0279ccf2778691cdd94aaccf9d934c6\n",
            "Successfully built vn\n",
            "Installing collected packages: click, vn\n",
            "  Attempting uninstall: click\n",
            "    Found existing installation: click 8.1.7\n",
            "    Uninstalling click-8.1.7:\n",
            "      Successfully uninstalled click-8.1.7\n",
            "\u001b[31mERROR: pip's dependency resolver does not currently take into account all the packages that are installed. This behaviour is the source of the following dependency conflicts.\n",
            "flask 2.2.5 requires click>=8.0, but you have click 6.7 which is incompatible.\n",
            "dask 2023.8.1 requires click>=8.0, but you have click 6.7 which is incompatible.\n",
            "distributed 2023.8.1 requires click>=8.0, but you have click 6.7 which is incompatible.\n",
            "fiona 1.9.6 requires click~=8.0, but you have click 6.7 which is incompatible.\n",
            "pip-tools 6.13.0 requires click>=8, but you have click 6.7 which is incompatible.\n",
            "typer 0.12.3 requires click>=8.0.0, but you have click 6.7 which is incompatible.\n",
            "uvicorn 0.30.1 requires click>=7.0, but you have click 6.7 which is incompatible.\u001b[0m\u001b[31m\n",
            "\u001b[0mSuccessfully installed click-6.7 vn-1.0.16\n"
          ]
        },
        {
          "output_type": "display_data",
          "data": {
            "application/vnd.colab-display-data+json": {
              "pip_warning": {
                "packages": [
                  "click"
                ]
              },
              "id": "60737ae0855d4a3dbc36a05691389241"
            }
          },
          "metadata": {}
        }
      ]
    },
    {
      "id": "38707ef4-8063-5170-873a-45e63c1928a7",
      "cell_type": "code",
      "execution_count": 5,
      "metadata": {
        "id": "38707ef4-8063-5170-873a-45e63c1928a7"
      },
      "outputs": [],
      "source": [
        "# This is how you can connect to a DuckDB database\n",
        "vn.connect_to_duckdb(url='motherduck:[<database_name>]?motherduck_token=<token>&saas_mode=true')"
      ]
    },
    {
      "id": "f06c0e89-83f7-5ad1-8f6e-a64cf5bd8e60",
      "cell_type": "markdown",
      "metadata": {
        "id": "f06c0e89-83f7-5ad1-8f6e-a64cf5bd8e60"
      },
      "source": [
        "## Training\n",
        "You only need to train once. Do not train again unless you want to add more training data."
      ]
    },
    {
      "id": "5d321d01-d66f-5c5e-a3f3-e2d3d4330344",
      "cell_type": "code",
      "execution_count": null,
      "metadata": {
        "id": "5d321d01-d66f-5c5e-a3f3-e2d3d4330344"
      },
      "outputs": [],
      "source": [
        "# The information schema query may need some tweaking depending on your database. This is a good starting point.\n",
        "df_information_schema = vn.run_sql(\"SELECT * FROM INFORMATION_SCHEMA.COLUMNS\")\n",
        "# This will break up the information schema into bite-sized chunks that can be referenced by the LLM\n",
        "plan = vn.get_training_plan_generic(df_information_schema)\n",
        "plan\n",
        "# If you like the plan, then uncomment this and run it to train"
      ]
    },
    {
      "id": "7c421f88-42ea-567c-8581-3dcac96c36a3",
      "cell_type": "code",
      "execution_count": null,
      "metadata": {
        "id": "7c421f88-42ea-567c-8581-3dcac96c36a3"
      },
      "outputs": [],
      "source": [
        "# In duckDB the describe statement can fetch the DDL for any table\n",
        "vn.train(ddl=\"DESCRIBE SELECT * FROM Stackoverflow.users;\")"
      ]
    },
    {
      "cell_type": "code",
      "source": [
        "# here is an example of training on SQL statements\n",
        "vn.train(\n",
        "question=\"What are the top 10 users with highest amount of Badges?\"\n",
        ",sql=\"\"\"SELECT UserId, COUNT(*) AS badge_count\n",
        "FROM stackoverflow.main.badges\n",
        "GROUP BY UserId\n",
        "ORDER BY badge_count DESC\n",
        "LIMIT 10\n",
        "\"\"\")\n",
        "# Another example\n",
        "vn.train(\n",
        "question=\"What is the difference in total answers for the user who answered the most answers and the user who answered the least questions?\",\n",
        ",sql=\"SELECT MAX(answer_count) - MIN(answer_count) AS difference\n",
        "FROM (\n",
        "    SELECT OwnerUserId, COUNT(*) AS answer_count\n",
        "    FROM stackoverflow.main.posts\n",
        "    WHERE PostTypeId = 2\n",
        "    GROUP BY OwnerUserId\n",
        ") AS answer_counts;\n",
        "\")"
      ],
      "metadata": {
        "id": "AjnnztiTDuuR"
      },
      "id": "AjnnztiTDuuR",
      "execution_count": null,
      "outputs": []
    },
    {
      "id": "59fcb3b1-4434-583d-82be-ed8e9b04d699",
      "cell_type": "code",
      "execution_count": null,
      "metadata": {
        "id": "59fcb3b1-4434-583d-82be-ed8e9b04d699"
      },
      "outputs": [],
      "source": [
        "# vn.ask is runs these following functions in sequence, which can be run individually\n",
        "# 1. vn.generate_ql\n",
        "# 2. vn.run_sql\n",
        "# 3. vn.generate_plotly_code\n",
        "# 4. vn.get_plotly_figure"
      ]
    },
    {
      "id": "bf2fc121-a3ab-5a2e-95b0-383271e82d5f",
      "cell_type": "markdown",
      "metadata": {
        "id": "bf2fc121-a3ab-5a2e-95b0-383271e82d5f"
      },
      "source": [
        "## Asking the AI\n",
        "Whenever you ask a new question, it will find the 10 most relevant pieces of training data and use it as part of the LLM prompt to generate the SQL."
      ]
    },
    {
      "id": "edb6679e-a102-5efc-b890-81babca8f500",
      "cell_type": "code",
      "execution_count": null,
      "metadata": {
        "id": "edb6679e-a102-5efc-b890-81babca8f500"
      },
      "outputs": [],
      "source": [
        "# this is how you can ask Vanna question's post training\n",
        "vn.ask('Find the top 10 users with the highest amount of Badges?')\n"
      ]
    },
    {
      "id": "8c49dd68-3bc6-5098-93f1-2d4d8617badb",
      "cell_type": "markdown",
      "metadata": {
        "id": "8c49dd68-3bc6-5098-93f1-2d4d8617badb"
      },
      "source": [
        "## Launch the User Interface\n",
        "![vanna-flask](https://vanna.ai/blog/img/vanna-flask.gif)"
      ]
    },
    {
      "id": "b87d140b-ef56-5795-b489-46bb11d01459",
      "cell_type": "code",
      "execution_count": null,
      "metadata": {
        "id": "b87d140b-ef56-5795-b489-46bb11d01459"
      },
      "outputs": [],
      "source": [
        "from vanna.flask import VannaFlaskApp\n",
        "app = VannaFlaskApp(vn)\n",
        "app.run()"
      ]
    },
    {
      "id": "29793859-c3c8-50da-994a-c8f6348d6730",
      "cell_type": "markdown",
      "metadata": {
        "id": "29793859-c3c8-50da-994a-c8f6348d6730"
      },
      "source": [
        "## Next Steps\n",
        "Using Vanna via Jupyter notebooks is great for getting started but check out additional customizable interfaces like the\n",
        "- [Streamlit app](https://github.com/vanna-ai/vanna-streamlit)\n",
        "- [Flask app](https://github.com/vanna-ai/vanna-flask)\n",
        "- [Slackbot](https://github.com/vanna-ai/vanna-slack)\n"
      ]
    }
  ],
  "metadata": {
    "kernelspec": {
      "display_name": "Python 3",
      "language": "python",
      "name": "python3"
    },
    "language_info": {
      "codemirror_mode": {
        "name": "ipython",
        "version": 3
      },
      "file_extension": ".py",
      "mimetype": "text/x-python",
      "name": "python",
      "nbconvert_exporter": "python",
      "pygments_lexer": "ipython3",
      "version": "3.8.5"
    },
    "colab": {
      "provenance": [],
      "include_colab_link": true
    }
  },
  "nbformat": 4,
  "nbformat_minor": 5
}